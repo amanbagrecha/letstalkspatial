{
 "cells": [
  {
   "cell_type": "code",
   "execution_count": null,
   "id": "3264504f-cfc5-43ae-99ca-7a2c506537d1",
   "metadata": {},
   "outputs": [],
   "source": [
    "import requests\n",
    "\n",
    "source = requests.get(\"https://stacdata.s3.amazonaws.com/highway-primary.geojson\").json()"
   ]
  },
  {
   "cell_type": "code",
   "execution_count": null,
   "id": "b2dc6110-013c-4ef3-8c8b-771b36150112",
   "metadata": {
    "tags": []
   },
   "outputs": [],
   "source": [
    "import shapely.geometry\n",
    "\n",
    "shapely_shapes = [shapely.geometry.shape(fea['geometry']) for fea in source['features']]\n",
    "aoi_as_multiline = shapely.geometry.MultiLineString(shapely_shapes)"
   ]
  },
  {
   "cell_type": "code",
   "execution_count": null,
   "id": "e7c07922-0a07-4b3c-84df-4d9b7f46ed75",
   "metadata": {},
   "outputs": [],
   "source": [
    "from pystac_client import Client\n",
    "\n",
    "URL = 'https://earth-search.aws.element84.com/v0/'\n",
    "\n",
    "client = Client.open(URL)"
   ]
  },
  {
   "cell_type": "code",
   "execution_count": null,
   "id": "57a9c9a3-63e7-44c4-bcd6-66e9020ef5e3",
   "metadata": {
    "tags": []
   },
   "outputs": [],
   "source": [
    "search = client.search(\n",
    "    max_items = 10,\n",
    "    collections = \"sentinel-s2-l2a-cogs\",\n",
    "    intersects = aoi_as_multiline,\n",
    "    datetime = '2022-01-01/2022-01-24'\n",
    ")"
   ]
  },
  {
   "cell_type": "code",
   "execution_count": null,
   "id": "445f0971-c530-4a4c-a64c-54dcff2c5fa3",
   "metadata": {},
   "outputs": [],
   "source": [
    "print(f\"AOI as Shapely Geometry object from MultiLine(), found {len(list(search.items()))} items\")"
   ]
  },
  {
   "cell_type": "code",
   "execution_count": null,
   "id": "f5a04a91-2af9-451d-9668-7864bbd56d4d",
   "metadata": {},
   "outputs": [],
   "source": [
    "import stackstac\n",
    "\n",
    "ds = stackstac.stack(search.get_all_items(),  epsg=4326, assets=[\"B04\", \"B03\", \"B05\"] )"
   ]
  },
  {
   "cell_type": "code",
   "execution_count": null,
   "id": "d613761d-8234-493b-b79d-cd6ab7a941de",
   "metadata": {},
   "outputs": [],
   "source": [
    "search.get_all_items()"
   ]
  },
  {
   "cell_type": "code",
   "execution_count": null,
   "id": "70556edf-6101-476d-88bb-96dd15f53eb6",
   "metadata": {},
   "outputs": [],
   "source": [
    "ds.groupby(\"time.date\") # \"sentinel:grid_square\""
   ]
  },
  {
   "cell_type": "code",
   "execution_count": null,
   "id": "08b538d5-af06-4160-867a-a23b09a134e9",
   "metadata": {},
   "outputs": [],
   "source": [
    "import geopandas as gpd\n",
    "\n",
    "gdf = gpd.GeoDataFrame.from_features(search.get_all_items().to_dict()['features'], \"epsg:4326\")"
   ]
  },
  {
   "cell_type": "code",
   "execution_count": null,
   "id": "276c6b7c-49c0-401c-9a57-8ab77f21d99c",
   "metadata": {
    "tags": []
   },
   "outputs": [],
   "source": [
    "# Colour features by cloud cover\n",
    "fig = gdf.plot(column='eo:cloud_cover',\n",
    "         cmap='viridis',\n",
    "        edgecolor=\"black\",\n",
    "        categorical=True,\n",
    "        aspect=\"equal\",\n",
    "        alpha=0.5,\n",
    "        figsize=(6, 12),\n",
    "        legend_kwds={\"loc\": \"upper left\", \"frameon\": False, \"ncol\": 1},\n",
    "         legend=True)\n",
    "\n",
    "_ = fig.set_title(\"STAC Query Results By Cloud Cover\")"
   ]
  },
  {
   "cell_type": "markdown",
   "id": "b81289d7-b34a-4987-8da0-8f522e0da823",
   "metadata": {},
   "source": [
    "### Associated with the talk for [Let's Talk Spatial](https://www.linkedin.com/company/82530406/)\n",
    "\n",
    " — By [Aman Bagrecha](https://amanbagrecha.github.io/)"
   ]
  }
 ],
 "metadata": {
  "kernelspec": {
   "display_name": "default:Python",
   "language": "python",
   "name": "conda-env-default-py"
  },
  "language_info": {
   "codemirror_mode": {
    "name": "ipython",
    "version": 3
   },
   "file_extension": ".py",
   "mimetype": "text/x-python",
   "name": "python",
   "nbconvert_exporter": "python",
   "pygments_lexer": "ipython3",
   "version": "3.9.13"
  }
 },
 "nbformat": 4,
 "nbformat_minor": 5
}
